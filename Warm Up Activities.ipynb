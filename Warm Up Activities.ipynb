{
 "cells": [
  {
   "cell_type": "markdown",
   "metadata": {},
   "source": [
    "# Warm Up Activities\n",
    "\n",
    "In this notebook you'll find a few different exercises combining dictionaries and lists in order to practice before the main activity of this project, Football Dictionaries."
   ]
  },
  {
   "cell_type": "markdown",
   "metadata": {},
   "source": [
    "## 1. Transform a user into a dictionary\n",
    "\n",
    "Write a function `build_user_as_dict` that receives three parameters (`name, email, age`) and returns a dictionary:"
   ]
  },
  {
   "cell_type": "markdown",
   "metadata": {},
   "source": [
    "##### ## Your Task ##"
   ]
  },
  {
   "cell_type": "code",
   "execution_count": 11,
   "metadata": {},
   "outputs": [
    {
     "output_type": "error",
     "ename": "SyntaxError",
     "evalue": "EOL while scanning string literal (<ipython-input-11-cae5d9d0f8bc>, line 2)",
     "traceback": [
      "\u001b[1;36m  File \u001b[1;32m\"<ipython-input-11-cae5d9d0f8bc>\"\u001b[1;36m, line \u001b[1;32m2\u001b[0m\n\u001b[1;33m    return {'name': name,\"\"'\\n'\" 'email': email, 'age': age\u001b[0m\n\u001b[1;37m                                                           ^\u001b[0m\n\u001b[1;31mSyntaxError\u001b[0m\u001b[1;31m:\u001b[0m EOL while scanning string literal\n"
     ]
    }
   ],
   "source": [
    "def build_user_as_dict(name, email, age):\n",
    "    return {'name': name, 'email': email, 'age': age\n",
    "    }"
   ]
  },
  {
   "cell_type": "markdown",
   "metadata": {},
   "source": [
    "##### Examples:\n",
    "\n",
    "The following code"
   ]
  },
  {
   "cell_type": "code",
   "execution_count": 2,
   "metadata": {},
   "outputs": [
    {
     "output_type": "execute_result",
     "data": {
      "text/plain": "{'name': 'John', 'email': 'john@gmail.com', 'age': 31}"
     },
     "metadata": {},
     "execution_count": 2
    }
   ],
   "source": [
    "build_user_as_dict('John', 'john@gmail.com', 31)"
   ]
  },
  {
   "cell_type": "markdown",
   "metadata": {},
   "source": [
    "should produce this output:"
   ]
  },
  {
   "cell_type": "code",
   "execution_count": null,
   "metadata": {},
   "outputs": [],
   "source": [
    "{\n",
    "    'name': 'John',\n",
    "    'email': 'john@gmail.com',\n",
    "    'age': 31\n",
    "}"
   ]
  },
  {
   "cell_type": "markdown",
   "metadata": {},
   "source": [
    "##### == Tests =="
   ]
  },
  {
   "cell_type": "code",
   "execution_count": null,
   "metadata": {},
   "outputs": [],
   "source": []
  },
  {
   "cell_type": "code",
   "execution_count": 8,
   "metadata": {},
   "outputs": [],
   "source": [
    "assert build_user_as_dict('John', 'john@gmail.com', 31) == {\n",
    "    'name': 'John',\n",
    "    'email': 'john@gmail.com',\n",
    "    'age': 31\n",
    "}"
   ]
  },
  {
   "cell_type": "code",
   "execution_count": 9,
   "metadata": {},
   "outputs": [
    {
     "output_type": "execute_result",
     "data": {
      "text/plain": "{'name': 'John', 'email': 'john@gmail.com', 'age': 31}"
     },
     "metadata": {},
     "execution_count": 9
    }
   ],
   "source": [
    "build_user_as_dict('John', 'john@gmail.com', 31)"
   ]
  },
  {
   "cell_type": "code",
   "execution_count": 5,
   "metadata": {},
   "outputs": [],
   "source": [
    "assert build_user_as_dict('Mary', 'mary@hotmail.com', 28) == {\n",
    "    'name': 'Mary',\n",
    "    'email': 'mary@hotmail.com',\n",
    "    'age': 28\n",
    "}"
   ]
  },
  {
   "cell_type": "code",
   "execution_count": 10,
   "metadata": {},
   "outputs": [
    {
     "output_type": "execute_result",
     "data": {
      "text/plain": "{'name': 'Mary', 'email': 'mary@hotmail.com', 'age': 28}"
     },
     "metadata": {},
     "execution_count": 10
    }
   ],
   "source": [
    "build_user_as_dict('Mary', 'mary@hotmail.com', 28)"
   ]
  },
  {
   "cell_type": "markdown",
   "metadata": {},
   "source": [
    "---\n",
    "\n",
    "## 2. Transform list into dictionary\n",
    "\n",
    "The function `transform_user_list_to_dict` receives a list with the user information and transforms it into a dictionary.\n",
    "\n",
    "Here's an example list, as you can see, the name is in the first position, email in 2nd and age in 3rd:"
   ]
  },
  {
   "cell_type": "code",
   "execution_count": null,
   "metadata": {},
   "outputs": [],
   "source": [
    "['Mary', 'mary@hotmail.com', 28]"
   ]
  },
  {
   "cell_type": "markdown",
   "metadata": {},
   "source": [
    "##### ## Your Task ##"
   ]
  },
  {
   "cell_type": "code",
   "execution_count": 12,
   "metadata": {},
   "outputs": [],
   "source": [
    "def transform_user_list_to_dict(a_user):\n",
    "    return {\n",
    "        'name': a_user[0],\n",
    "        'e-mail': a_user[1],\n",
    "        'age': a_user[2]\n",
    "    }"
   ]
  },
  {
   "cell_type": "markdown",
   "metadata": {},
   "source": [
    "##### Examples:\n",
    "\n",
    "The following code"
   ]
  },
  {
   "cell_type": "code",
   "execution_count": 13,
   "metadata": {},
   "outputs": [
    {
     "output_type": "execute_result",
     "data": {
      "text/plain": "{'name': 'Mary', 'e-mail': 'mary@hotmail.com', 'age': 28}"
     },
     "metadata": {},
     "execution_count": 13
    }
   ],
   "source": [
    "transform_user_list_to_dict(['Mary', 'mary@hotmail.com', 28])"
   ]
  },
  {
   "cell_type": "markdown",
   "metadata": {},
   "source": [
    "should produce this output:"
   ]
  },
  {
   "cell_type": "code",
   "execution_count": null,
   "metadata": {},
   "outputs": [],
   "source": [
    "{\n",
    "    'name': 'Mary',\n",
    "    'email': 'mary@hotmail.com',\n",
    "    'age': 28\n",
    "}"
   ]
  },
  {
   "cell_type": "markdown",
   "metadata": {},
   "source": [
    "##### == Tests =="
   ]
  },
  {
   "cell_type": "code",
   "execution_count": 14,
   "metadata": {},
   "outputs": [
    {
     "output_type": "error",
     "ename": "AssertionError",
     "evalue": "",
     "traceback": [
      "\u001b[1;31m---------------------------------------------------------------------------\u001b[0m",
      "\u001b[1;31mAssertionError\u001b[0m                            Traceback (most recent call last)",
      "\u001b[1;32m<ipython-input-14-b9dfeab79807>\u001b[0m in \u001b[0;36m<module>\u001b[1;34m\u001b[0m\n\u001b[0;32m      1\u001b[0m \u001b[0ml1\u001b[0m \u001b[1;33m=\u001b[0m \u001b[1;33m[\u001b[0m\u001b[1;34m'John'\u001b[0m\u001b[1;33m,\u001b[0m \u001b[1;34m'john@gmail.com'\u001b[0m\u001b[1;33m,\u001b[0m \u001b[1;36m31\u001b[0m\u001b[1;33m]\u001b[0m\u001b[1;33m\u001b[0m\u001b[1;33m\u001b[0m\u001b[0m\n\u001b[0;32m      2\u001b[0m \u001b[1;33m\u001b[0m\u001b[0m\n\u001b[1;32m----> 3\u001b[1;33m assert transform_user_list_to_dict(l1) == {\n\u001b[0m\u001b[0;32m      4\u001b[0m     \u001b[1;34m'name'\u001b[0m\u001b[1;33m:\u001b[0m \u001b[1;34m'John'\u001b[0m\u001b[1;33m,\u001b[0m\u001b[1;33m\u001b[0m\u001b[1;33m\u001b[0m\u001b[0m\n\u001b[0;32m      5\u001b[0m     \u001b[1;34m'email'\u001b[0m\u001b[1;33m:\u001b[0m \u001b[1;34m'john@gmail.com'\u001b[0m\u001b[1;33m,\u001b[0m\u001b[1;33m\u001b[0m\u001b[1;33m\u001b[0m\u001b[0m\n",
      "\u001b[1;31mAssertionError\u001b[0m: "
     ]
    }
   ],
   "source": [
    "l1 = ['John', 'john@gmail.com', 31]\n",
    "\n",
    "assert transform_user_list_to_dict(l1) == {\n",
    "    'name': 'John',\n",
    "    'email': 'john@gmail.com',\n",
    "    'age': 31\n",
    "}"
   ]
  },
  {
   "cell_type": "code",
   "execution_count": 15,
   "metadata": {},
   "outputs": [
    {
     "output_type": "error",
     "ename": "AssertionError",
     "evalue": "",
     "traceback": [
      "\u001b[1;31m---------------------------------------------------------------------------\u001b[0m",
      "\u001b[1;31mAssertionError\u001b[0m                            Traceback (most recent call last)",
      "\u001b[1;32m<ipython-input-15-eed906f17ea4>\u001b[0m in \u001b[0;36m<module>\u001b[1;34m\u001b[0m\n\u001b[0;32m      1\u001b[0m \u001b[0ml2\u001b[0m \u001b[1;33m=\u001b[0m \u001b[1;33m[\u001b[0m\u001b[1;34m'Mary'\u001b[0m\u001b[1;33m,\u001b[0m \u001b[1;34m'mary@hotmail.com'\u001b[0m\u001b[1;33m,\u001b[0m \u001b[1;36m28\u001b[0m\u001b[1;33m]\u001b[0m\u001b[1;33m\u001b[0m\u001b[1;33m\u001b[0m\u001b[0m\n\u001b[0;32m      2\u001b[0m \u001b[1;33m\u001b[0m\u001b[0m\n\u001b[1;32m----> 3\u001b[1;33m assert transform_user_list_to_dict(l2) == {\n\u001b[0m\u001b[0;32m      4\u001b[0m     \u001b[1;34m'name'\u001b[0m\u001b[1;33m:\u001b[0m \u001b[1;34m'Mary'\u001b[0m\u001b[1;33m,\u001b[0m\u001b[1;33m\u001b[0m\u001b[1;33m\u001b[0m\u001b[0m\n\u001b[0;32m      5\u001b[0m     \u001b[1;34m'email'\u001b[0m\u001b[1;33m:\u001b[0m \u001b[1;34m'mary@hotmail.com'\u001b[0m\u001b[1;33m,\u001b[0m\u001b[1;33m\u001b[0m\u001b[1;33m\u001b[0m\u001b[0m\n",
      "\u001b[1;31mAssertionError\u001b[0m: "
     ]
    }
   ],
   "source": [
    "l2 = ['Mary', 'mary@hotmail.com', 28]\n",
    "\n",
    "assert transform_user_list_to_dict(l2) == {\n",
    "    'name': 'Mary',\n",
    "    'email': 'mary@hotmail.com',\n",
    "    'age': 28\n",
    "}"
   ]
  },
  {
   "cell_type": "code",
   "execution_count": 16,
   "metadata": {},
   "outputs": [
    {
     "output_type": "execute_result",
     "data": {
      "text/plain": "{'name': 'John', 'e-mail': 'john@gmail.com', 'age': 31}"
     },
     "metadata": {},
     "execution_count": 16
    }
   ],
   "source": [
    "transform_user_list_to_dict(l1)"
   ]
  },
  {
   "cell_type": "code",
   "execution_count": 17,
   "metadata": {},
   "outputs": [
    {
     "output_type": "execute_result",
     "data": {
      "text/plain": "{'name': 'Mary', 'e-mail': 'mary@hotmail.com', 'age': 28}"
     },
     "metadata": {},
     "execution_count": 17
    }
   ],
   "source": [
    "transform_user_list_to_dict(l2)"
   ]
  },
  {
   "cell_type": "markdown",
   "metadata": {},
   "source": [
    "---\n",
    "\n",
    "## 3. Transform multiple users to dictionary list\n",
    "\n",
    "We're now going to combine multiple dictionaries in a list. If we have 2 users in the form of lists:"
   ]
  },
  {
   "cell_type": "code",
   "execution_count": 18,
   "metadata": {},
   "outputs": [
    {
     "output_type": "execute_result",
     "data": {
      "text/plain": "[['John', 'john@gmail.com', 31], ['Mary', 'mary@hotmail.com', 28]]"
     },
     "metadata": {},
     "execution_count": 18
    }
   ],
   "source": [
    "users = [\n",
    "    ['John', 'john@gmail.com', 31],\n",
    "    ['Mary', 'mary@hotmail.com', 28]\n",
    "]\n",
    "users"
   ]
  },
  {
   "cell_type": "markdown",
   "metadata": {},
   "source": [
    "we want to see them now represented as dictionaries:"
   ]
  },
  {
   "cell_type": "code",
   "execution_count": 19,
   "metadata": {},
   "outputs": [
    {
     "output_type": "execute_result",
     "data": {
      "text/plain": "[{'name': 'John', 'email': 'john@gmail.com', 'age': 31},\n {'name': 'Mary', 'email': 'mary@hotmail.com', 'age': 28}]"
     },
     "metadata": {},
     "execution_count": 19
    }
   ],
   "source": [
    "[{\n",
    "    'name': 'John',\n",
    "    'email': 'john@gmail.com',\n",
    "    'age': 31\n",
    "}, {\n",
    "    'name': 'Mary',\n",
    "    'email': 'mary@hotmail.com',\n",
    "    'age': 28\n",
    "}]"
   ]
  },
  {
   "cell_type": "markdown",
   "metadata": {},
   "source": [
    "We transform a list of lists, into a list of dictonaries."
   ]
  },
  {
   "cell_type": "markdown",
   "metadata": {},
   "source": [
    "##### ## Your Task ##"
   ]
  },
  {
   "cell_type": "code",
   "execution_count": 44,
   "metadata": {},
   "outputs": [],
   "source": [
    "def transform_multiple_users_to_dicts(multiple_users):\n",
    "    res = []\n",
    "    tmp = {}\n",
    "    for user in multiple_users:\n",
    "        tmp['name'] = user[0]\n",
    "        tmp['email'] = user[1]\n",
    "        tmp['age'] = user[2]\n",
    "        res.append(tmp)\n",
    "        tmp = {}\n",
    "    return res"
   ]
  },
  {
   "cell_type": "markdown",
   "metadata": {},
   "source": [
    "##### Examples:\n",
    "\n",
    "The following code"
   ]
  },
  {
   "cell_type": "code",
   "execution_count": 45,
   "metadata": {},
   "outputs": [
    {
     "output_type": "execute_result",
     "data": {
      "text/plain": "[{'name': 'John', 'email': 'john@gmail.com', 'age': 31},\n {'name': 'Mary', 'email': 'mary@hotmail.com', 'age': 28}]"
     },
     "metadata": {},
     "execution_count": 45
    }
   ],
   "source": [
    "users = [\n",
    "    ['John', 'john@gmail.com', 31],\n",
    "    ['Mary', 'mary@hotmail.com', 28]\n",
    "]\n",
    "\n",
    "transform_multiple_users_to_dicts(users)"
   ]
  },
  {
   "cell_type": "markdown",
   "metadata": {},
   "source": [
    "should produce this output:"
   ]
  },
  {
   "cell_type": "code",
   "execution_count": 46,
   "metadata": {},
   "outputs": [
    {
     "output_type": "execute_result",
     "data": {
      "text/plain": "[{'name': 'John', 'email': 'john@gmail.com', 'age': 31},\n {'name': 'Mary', 'email': 'mary@hotmail.com', 'age': 28}]"
     },
     "metadata": {},
     "execution_count": 46
    }
   ],
   "source": [
    "[{\n",
    "    'name': 'John',\n",
    "    'email': 'john@gmail.com',\n",
    "    'age': 31\n",
    "}, {\n",
    "    'name': 'Mary',\n",
    "    'email': 'mary@hotmail.com',\n",
    "    'age': 28\n",
    "}]"
   ]
  },
  {
   "cell_type": "markdown",
   "metadata": {},
   "source": [
    "##### == Tests =="
   ]
  },
  {
   "cell_type": "code",
   "execution_count": 47,
   "metadata": {},
   "outputs": [],
   "source": [
    "users = [\n",
    "    ['John', 'john@gmail.com', 31],\n",
    "    ['Mary', 'mary@hotmail.com', 28],\n",
    "    ['Rose', 'rose@yahoo.com', 30]\n",
    "]\n",
    "\n",
    "users_as_dict = transform_multiple_users_to_dicts(users)\n",
    "\n",
    "assert users_as_dict == [{\n",
    "    'name': 'John',\n",
    "    'email': 'john@gmail.com',\n",
    "    'age': 31\n",
    "}, {\n",
    "    'name': 'Mary',\n",
    "    'email': 'mary@hotmail.com',\n",
    "    'age': 28\n",
    "}, {\n",
    "    'name': 'Rose',\n",
    "    'email': 'rose@yahoo.com',\n",
    "    'age': 30\n",
    "}]\n"
   ]
  },
  {
   "cell_type": "code",
   "execution_count": 48,
   "metadata": {},
   "outputs": [
    {
     "output_type": "execute_result",
     "data": {
      "text/plain": "[{'name': 'John', 'email': 'john@gmail.com', 'age': 31},\n {'name': 'Mary', 'email': 'mary@hotmail.com', 'age': 28},\n {'name': 'Rose', 'email': 'rose@yahoo.com', 'age': 30}]"
     },
     "metadata": {},
     "execution_count": 48
    }
   ],
   "source": [
    "users = [\n",
    "    ['John', 'john@gmail.com', 31],\n",
    "    ['Mary', 'mary@hotmail.com', 28],\n",
    "    ['Rose', 'rose@yahoo.com', 30]\n",
    "]\n",
    "\n",
    "transform_multiple_users_to_dicts(users)"
   ]
  },
  {
   "cell_type": "markdown",
   "metadata": {},
   "source": [
    "---\n",
    "\n",
    "## 4. Group users by email domain\n",
    "\n",
    "The function `group_users_by_email_domain` will receive a list of users as dictionaries, like the following one:"
   ]
  },
  {
   "cell_type": "code",
   "execution_count": 49,
   "metadata": {},
   "outputs": [
    {
     "output_type": "execute_result",
     "data": {
      "text/plain": "[{'name': 'John', 'email': 'john@gmail.com', 'age': 31},\n {'name': 'Mary', 'email': 'mary@hotmail.com', 'age': 28},\n {'name': 'Rose', 'email': 'Rose@gmail.com', 'age': 30}]"
     },
     "metadata": {},
     "execution_count": 49
    }
   ],
   "source": [
    "[{\n",
    "    'name': 'John',\n",
    "    'email': 'john@gmail.com',\n",
    "    'age': 31\n",
    "}, {\n",
    "    'name': 'Mary',\n",
    "    'email': 'mary@hotmail.com',\n",
    "    'age': 28\n",
    "}, {\n",
    "    'name': 'Rose',\n",
    "    'email': 'Rose@gmail.com',\n",
    "    'age': 30\n",
    "}]"
   ]
  },
  {
   "cell_type": "markdown",
   "metadata": {},
   "source": [
    "and it should group them by the domain name of their email, something like:\n",
    "\n",
    "* gmail.com:\n",
    " * Rose\n",
    " * John\n",
    "* hotmail.com:\n",
    " * Mary\n",
    " \n",
    "Which in code looks like:"
   ]
  },
  {
   "cell_type": "code",
   "execution_count": null,
   "metadata": {},
   "outputs": [],
   "source": [
    "{\n",
    "    'gmail.com': [{\n",
    "        'name': 'John',\n",
    "        'email': 'john@gmail.com',\n",
    "        'age': 31\n",
    "    }, {\n",
    "        'name': 'Rose',\n",
    "        'email': 'Rose@gmail.com',\n",
    "        'age': 30\n",
    "    }],\n",
    "    'hotmail.com': [{\n",
    "        'name': 'Mary',\n",
    "        'email': 'mary@hotmail.com',\n",
    "        'age': 28\n",
    "    }]\n",
    "}"
   ]
  },
  {
   "cell_type": "markdown",
   "metadata": {},
   "source": [
    "##### ## Your Task ##"
   ]
  },
  {
   "cell_type": "code",
   "execution_count": 60,
   "metadata": {},
   "outputs": [],
   "source": [
    "def group_users_by_email_domain(multiple_users):\n",
    "    res = {}\n",
    "    for user in multiple_users:\n",
    "        for key, value in user.items():\n",
    "            if key is 'email' and 'gmail.com' in value:\n",
    "                res.setdefault('gmail.com', []).append(user)\n",
    "            elif key is 'email' and 'hotmail.com' in value:\n",
    "                res.setdefault('hotmail.com', []).append(user)\n",
    "            elif key is 'email' and 'yahoo.com' in value:\n",
    "                res.setdefault('yahoo.com', []).append(user)\n",
    "            elif key is 'email' and 'rmotr.com' in value:\n",
    "                res.setdefault('rmotr.com', []).append(user)\n",
    "    return res"
   ]
  },
  {
   "cell_type": "code",
   "execution_count": 68,
   "metadata": {},
   "outputs": [],
   "source": [
    "mul_users =[{\n",
    "    'name': 'John',\n",
    "    'email': 'john@gmail.com',\n",
    "    'age': 31\n",
    "}, {\n",
    "    'name': 'Mary',\n",
    "    'email': 'mary@hotmail.com',\n",
    "    'age': 28\n",
    "}, {\n",
    "    'name': 'Rose',\n",
    "    'email': 'Rose@gmail.com',\n",
    "    'age': 30\n",
    "}]"
   ]
  },
  {
   "cell_type": "code",
   "execution_count": 69,
   "metadata": {
    "tags": []
   },
   "outputs": [
    {
     "output_type": "error",
     "ename": "AttributeError",
     "evalue": "'str' object has no attribute 'items'",
     "traceback": [
      "\u001b[1;31m---------------------------------------------------------------------------\u001b[0m",
      "\u001b[1;31mAttributeError\u001b[0m                            Traceback (most recent call last)",
      "\u001b[1;32m<ipython-input-69-930c0fd61d8d>\u001b[0m in \u001b[0;36m<module>\u001b[1;34m\u001b[0m\n\u001b[1;32m----> 1\u001b[1;33m \u001b[0mprint\u001b[0m\u001b[1;33m(\u001b[0m\u001b[0mgroup_users_by_email_domain\u001b[0m\u001b[1;33m(\u001b[0m\u001b[0musers_grouped\u001b[0m\u001b[1;33m)\u001b[0m\u001b[1;33m)\u001b[0m\u001b[1;33m\u001b[0m\u001b[1;33m\u001b[0m\u001b[0m\n\u001b[0m",
      "\u001b[1;32m<ipython-input-60-7ff347674f16>\u001b[0m in \u001b[0;36mgroup_users_by_email_domain\u001b[1;34m(multiple_users)\u001b[0m\n\u001b[0;32m      2\u001b[0m     \u001b[0mres\u001b[0m \u001b[1;33m=\u001b[0m \u001b[1;33m{\u001b[0m\u001b[1;33m}\u001b[0m\u001b[1;33m\u001b[0m\u001b[1;33m\u001b[0m\u001b[0m\n\u001b[0;32m      3\u001b[0m     \u001b[1;32mfor\u001b[0m \u001b[0muser\u001b[0m \u001b[1;32min\u001b[0m \u001b[0mmultiple_users\u001b[0m\u001b[1;33m:\u001b[0m\u001b[1;33m\u001b[0m\u001b[1;33m\u001b[0m\u001b[0m\n\u001b[1;32m----> 4\u001b[1;33m         \u001b[1;32mfor\u001b[0m \u001b[0mkey\u001b[0m\u001b[1;33m,\u001b[0m \u001b[0mvalue\u001b[0m \u001b[1;32min\u001b[0m \u001b[0muser\u001b[0m\u001b[1;33m.\u001b[0m\u001b[0mitems\u001b[0m\u001b[1;33m(\u001b[0m\u001b[1;33m)\u001b[0m\u001b[1;33m:\u001b[0m\u001b[1;33m\u001b[0m\u001b[1;33m\u001b[0m\u001b[0m\n\u001b[0m\u001b[0;32m      5\u001b[0m             \u001b[1;32mif\u001b[0m \u001b[0mkey\u001b[0m \u001b[1;32mis\u001b[0m \u001b[1;34m'email'\u001b[0m \u001b[1;32mand\u001b[0m \u001b[1;34m'gmail.com'\u001b[0m \u001b[1;32min\u001b[0m \u001b[0mvalue\u001b[0m\u001b[1;33m:\u001b[0m\u001b[1;33m\u001b[0m\u001b[1;33m\u001b[0m\u001b[0m\n\u001b[0;32m      6\u001b[0m                 \u001b[0mres\u001b[0m\u001b[1;33m.\u001b[0m\u001b[0msetdefault\u001b[0m\u001b[1;33m(\u001b[0m\u001b[1;34m'gmail.com'\u001b[0m\u001b[1;33m,\u001b[0m \u001b[1;33m[\u001b[0m\u001b[1;33m]\u001b[0m\u001b[1;33m)\u001b[0m\u001b[1;33m.\u001b[0m\u001b[0mappend\u001b[0m\u001b[1;33m(\u001b[0m\u001b[0muser\u001b[0m\u001b[1;33m)\u001b[0m\u001b[1;33m\u001b[0m\u001b[1;33m\u001b[0m\u001b[0m\n",
      "\u001b[1;31mAttributeError\u001b[0m: 'str' object has no attribute 'items'"
     ]
    }
   ],
   "source": [
    "print(group_users_by_email_domain(users_grouped))"
   ]
  },
  {
   "cell_type": "markdown",
   "metadata": {},
   "source": [
    "##### == Tests =="
   ]
  },
  {
   "cell_type": "code",
   "execution_count": 63,
   "metadata": {},
   "outputs": [
    {
     "output_type": "error",
     "ename": "TypeError",
     "evalue": "group_users_by_email_domain() missing 1 required positional argument: 'multiple_users'",
     "traceback": [
      "\u001b[1;31m---------------------------------------------------------------------------\u001b[0m",
      "\u001b[1;31mTypeError\u001b[0m                                 Traceback (most recent call last)",
      "\u001b[1;32m<ipython-input-63-4f200bb7fd0a>\u001b[0m in \u001b[0;36m<module>\u001b[1;34m\u001b[0m\n\u001b[1;32m----> 1\u001b[1;33m \u001b[0mprint\u001b[0m\u001b[1;33m(\u001b[0m\u001b[0mgroup_users_by_email_domain\u001b[0m\u001b[1;33m(\u001b[0m\u001b[1;33m)\u001b[0m\u001b[1;33m)\u001b[0m\u001b[1;33m\u001b[0m\u001b[1;33m\u001b[0m\u001b[0m\n\u001b[0m",
      "\u001b[1;31mTypeError\u001b[0m: group_users_by_email_domain() missing 1 required positional argument: 'multiple_users'"
     ]
    }
   ],
   "source": [
    "print(group_users_by_email_domain())"
   ]
  },
  {
   "cell_type": "code",
   "execution_count": 64,
   "metadata": {},
   "outputs": [],
   "source": [
    "users = [{\n",
    "    'name': 'John',\n",
    "    'email': 'john@gmail.com',     # gmail\n",
    "    'age': 31\n",
    "}, {\n",
    "    'name': 'Mary',\n",
    "    'email': 'mary@hotmail.com',   # hotmail\n",
    "    'age': 28\n",
    "}, {\n",
    "    'name': 'Rose',\n",
    "    'email': 'rose@yahoo.com',     # yahoo\n",
    "    'age': 30\n",
    "}, {\n",
    "    'name': 'Jane',\n",
    "    'email': 'jane@gmail.com',     # gmail\n",
    "    'age': 25\n",
    "}, {\n",
    "    'name': 'Dustin',\n",
    "    'email': 'dustin@hotmail.com',  # hotmail\n",
    "    'age': 35\n",
    "}]\n",
    "\n",
    "users_grouped = group_users_by_email_domain(users)\n",
    "\n",
    "assert users_grouped == {\n",
    "    'gmail.com': [{\n",
    "        'name': 'John',\n",
    "        'email': 'john@gmail.com',     # gmail\n",
    "        'age': 31\n",
    "    }, {\n",
    "        'name': 'Jane',\n",
    "        'email': 'jane@gmail.com',     # gmail\n",
    "        'age': 25\n",
    "    }],\n",
    "    'hotmail.com': [{\n",
    "        'name': 'Mary',\n",
    "        'email': 'mary@hotmail.com',   # hotmail\n",
    "        'age': 28\n",
    "    }, {\n",
    "        'name': 'Dustin',\n",
    "        'email': 'dustin@hotmail.com',  # hotmail\n",
    "        'age': 35\n",
    "    }],\n",
    "    'yahoo.com': [{\n",
    "        'name': 'Rose',\n",
    "        'email': 'rose@yahoo.com',     # yahoo\n",
    "        'age': 30\n",
    "    }]\n",
    "}"
   ]
  },
  {
   "cell_type": "code",
   "execution_count": 65,
   "metadata": {},
   "outputs": [],
   "source": [
    "users = [{\n",
    "    'name': 'Jason',\n",
    "    'email': 'jason@rmotr.com',\n",
    "    'age': 61\n",
    "}]\n",
    "users_grouped = group_users_by_email_domain(users)\n",
    "\n",
    "assert users_grouped == {\n",
    "    'rmotr.com': [{\n",
    "        'name': 'Jason',\n",
    "        'email': 'jason@rmotr.com',\n",
    "        'age': 61\n",
    "    }]\n",
    "}\n"
   ]
  },
  {
   "cell_type": "code",
   "execution_count": null,
   "metadata": {},
   "outputs": [],
   "source": [
    "def group_users_by_email_domain(multiple_users):\n",
    "    users_dict = {}\n",
    "    for user in users:\n",
    "        domain = user['email'].split('@')[1]\n",
    "        users_dict.setdefault(domain, [])\n",
    "        users_dict[domain].append(user)\n",
    "    return users_dict"
   ]
  }
 ],
 "metadata": {
  "kernelspec": {
   "display_name": "Python 3.8.2 64-bit",
   "language": "python",
   "name": "python_defaultSpec_1598276680934"
  },
  "language_info": {
   "codemirror_mode": {
    "name": "ipython",
    "version": 3
   },
   "file_extension": ".py",
   "mimetype": "text/x-python",
   "name": "python",
   "nbconvert_exporter": "python",
   "pygments_lexer": "ipython3",
   "version": "3.8.2-final"
  }
 },
 "nbformat": 4,
 "nbformat_minor": 2
}